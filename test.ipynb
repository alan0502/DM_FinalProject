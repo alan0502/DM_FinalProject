{
 "cells": [
  {
   "cell_type": "code",
   "execution_count": 1,
   "id": "7b1f9f34-a6e5-4ae8-b09f-774d8f8a05bc",
   "metadata": {},
   "outputs": [],
   "source": [
    "# Import the data\n",
    "import pandas as pd\n",
    "train_df = pd.read_csv(\"child-mind-institute-problematic-internet-use/train.csv\")\n",
    "#test_df = pd.read_csv(\"child-mind-institute-problematic-internet-use/test.csv\")"
   ]
  },
  {
   "cell_type": "code",
   "execution_count": 2,
   "id": "1cc07611",
   "metadata": {},
   "outputs": [],
   "source": [
    "TARGET_COLS = [\n",
    "    \"PCIAT-Season\",\n",
    "    \"PCIAT-PCIAT_01\",\n",
    "    \"PCIAT-PCIAT_02\",\n",
    "    \"PCIAT-PCIAT_03\",\n",
    "    \"PCIAT-PCIAT_04\",\n",
    "    \"PCIAT-PCIAT_05\",\n",
    "    \"PCIAT-PCIAT_06\",\n",
    "    \"PCIAT-PCIAT_07\",\n",
    "    \"PCIAT-PCIAT_08\",\n",
    "    \"PCIAT-PCIAT_09\",\n",
    "    \"PCIAT-PCIAT_10\",\n",
    "    \"PCIAT-PCIAT_11\",\n",
    "    \"PCIAT-PCIAT_12\",\n",
    "    \"PCIAT-PCIAT_13\",\n",
    "    \"PCIAT-PCIAT_14\",\n",
    "    \"PCIAT-PCIAT_15\",\n",
    "    \"PCIAT-PCIAT_16\",    \n",
    "    \"PCIAT-PCIAT_17\",\n",
    "    \"PCIAT-PCIAT_18\",\n",
    "    \"PCIAT-PCIAT_19\",\n",
    "    \"PCIAT-PCIAT_20\",\n",
    "    \"PCIAT-PCIAT_Total\",\n",
    "]"
   ]
  },
  {
   "cell_type": "code",
   "execution_count": 3,
   "id": "f4d30d6e",
   "metadata": {},
   "outputs": [],
   "source": [
    "train_df = train_df.drop(TARGET_COLS,axis=1)"
   ]
  },
  {
   "cell_type": "code",
   "execution_count": 4,
   "id": "4a21f7e4",
   "metadata": {},
   "outputs": [],
   "source": [
    "ADD_COLS = [   \n",
    "    \"id\",\n",
    "    \"Basic_Demos-Enroll_Season\", \n",
    "    \"CGAS-Season\", \n",
    "    \"Physical-Season\", \n",
    "    \"Fitness_Endurance-Season\", \n",
    "    \"FGC-Season\", \n",
    "    \"BIA-Season\", \n",
    "    \"PAQ_A-Season\", \n",
    "    \"PAQ_C-Season\", \n",
    "    \"SDS-Season\",\n",
    "    \"PreInt_EduHx-Season\"\n",
    "]"
   ]
  },
  {
   "cell_type": "code",
   "execution_count": 5,
   "id": "b424b044",
   "metadata": {},
   "outputs": [],
   "source": [
    "train_df = train_df.drop(ADD_COLS,axis=1)\n",
    "#test_df = test_df.drop(ADD_COLS,axis=1)"
   ]
  },
  {
   "cell_type": "code",
   "execution_count": 6,
   "id": "3e26fa42",
   "metadata": {},
   "outputs": [],
   "source": [
    "train_df = train_df.dropna(subset=['sii'])"
   ]
  },
  {
   "cell_type": "code",
   "execution_count": 7,
   "id": "3ff69bc2",
   "metadata": {},
   "outputs": [],
   "source": [
    "from sklearn.model_selection import train_test_split\n",
    "X_train = train_df.drop(columns=['sii'])  # 假設 'category' 是標籤欄位\n",
    "y_train = train_df['sii']\n",
    "X_train, X_val, y_train, y_val = train_test_split(X_train, y_train, test_size=0.3, random_state=42)"
   ]
  },
  {
   "cell_type": "code",
   "execution_count": 9,
   "id": "2ff49a45",
   "metadata": {},
   "outputs": [],
   "source": [
    "from sklearn.impute import SimpleImputer\n",
    "imputer = SimpleImputer(strategy='median')\n",
    "X_train = pd.DataFrame(imputer.fit_transform(X_train), columns=X_train.columns)\n",
    "X_val = pd.DataFrame(imputer.fit_transform(X_val), columns=X_val.columns)\n",
    "#X_test = pd.DataFrame(imputer.fit_transform(X_test), columns=X_test.columns)"
   ]
  },
  {
   "cell_type": "code",
   "execution_count": 12,
   "id": "b4d3186a",
   "metadata": {},
   "outputs": [
    {
     "name": "stdout",
     "output_type": "stream",
     "text": [
      "sii\n",
      "0.0    1594\n",
      "1.0     730\n",
      "2.0     378\n",
      "3.0      34\n",
      "Name: count, dtype: int64\n"
     ]
    }
   ],
   "source": [
    "print(train_df.sii.value_counts())"
   ]
  },
  {
   "cell_type": "code",
   "execution_count": 13,
   "id": "a1410a94",
   "metadata": {},
   "outputs": [
    {
     "name": "stdout",
     "output_type": "stream",
     "text": [
      "Validation Accuracy: 0.6212\n",
      "Confusion Matrix:\n",
      "[[448  47  14   0]\n",
      " [135  53   5   0]\n",
      " [ 54  44   9   0]\n",
      " [  1  10   1   0]]\n",
      "\n",
      "Classification Report:\n",
      "              precision    recall  f1-score   support\n",
      "\n",
      "         0.0       0.70      0.88      0.78       509\n",
      "         1.0       0.34      0.27      0.31       193\n",
      "         2.0       0.31      0.08      0.13       107\n",
      "         3.0       0.00      0.00      0.00        12\n",
      "\n",
      "    accuracy                           0.62       821\n",
      "   macro avg       0.34      0.31      0.30       821\n",
      "weighted avg       0.56      0.62      0.57       821\n",
      "\n"
     ]
    },
    {
     "name": "stderr",
     "output_type": "stream",
     "text": [
      "c:\\Users\\alany\\anaconda3\\Lib\\site-packages\\sklearn\\metrics\\_classification.py:1509: UndefinedMetricWarning: Precision is ill-defined and being set to 0.0 in labels with no predicted samples. Use `zero_division` parameter to control this behavior.\n",
      "  _warn_prf(average, modifier, f\"{metric.capitalize()} is\", len(result))\n",
      "c:\\Users\\alany\\anaconda3\\Lib\\site-packages\\sklearn\\metrics\\_classification.py:1509: UndefinedMetricWarning: Precision is ill-defined and being set to 0.0 in labels with no predicted samples. Use `zero_division` parameter to control this behavior.\n",
      "  _warn_prf(average, modifier, f\"{metric.capitalize()} is\", len(result))\n",
      "c:\\Users\\alany\\anaconda3\\Lib\\site-packages\\sklearn\\metrics\\_classification.py:1509: UndefinedMetricWarning: Precision is ill-defined and being set to 0.0 in labels with no predicted samples. Use `zero_division` parameter to control this behavior.\n",
      "  _warn_prf(average, modifier, f\"{metric.capitalize()} is\", len(result))\n"
     ]
    }
   ],
   "source": [
    "from sklearn.ensemble import RandomForestClassifier\n",
    "from sklearn.metrics import accuracy_score, confusion_matrix, classification_report\n",
    "\n",
    "# 1. 初始化模型\n",
    "model = RandomForestClassifier(random_state=42)\n",
    "\n",
    "# 2. 訓練模型\n",
    "model.fit(X_train, y_train)\n",
    "\n",
    "# 3. 在驗證集上進行預測\n",
    "y_val_pred = model.predict(X_val)\n",
    "\n",
    "# 4. 計算準確率\n",
    "accuracy = accuracy_score(y_val, y_val_pred)\n",
    "print(f\"Validation Accuracy: {accuracy:.4f}\")\n",
    "\n",
    "# 5. 顯示混淆矩陣和分類報告\n",
    "print(\"Confusion Matrix:\")\n",
    "print(confusion_matrix(y_val, y_val_pred))\n",
    "\n",
    "print(\"\\nClassification Report:\")\n",
    "print(classification_report(y_val, y_val_pred))\n"
   ]
  }
 ],
 "metadata": {
  "kernelspec": {
   "display_name": "base",
   "language": "python",
   "name": "python3"
  },
  "language_info": {
   "codemirror_mode": {
    "name": "ipython",
    "version": 3
   },
   "file_extension": ".py",
   "mimetype": "text/x-python",
   "name": "python",
   "nbconvert_exporter": "python",
   "pygments_lexer": "ipython3",
   "version": "3.12.4"
  }
 },
 "nbformat": 4,
 "nbformat_minor": 5
}
